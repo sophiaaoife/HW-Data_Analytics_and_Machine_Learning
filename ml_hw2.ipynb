{
 "cells": [
  {
   "cell_type": "markdown",
   "id": "70f0e29e-6060-4d4b-ae06-d43e11f40b08",
   "metadata": {},
   "source": [
    "## Question 1: Fixed effects and within transformations\n",
    "You will find a modified version the imports-85.csv (imports85_modified.csv) file attached to this assignment. Again, make sure that all continuous variables of interest are numeric."
   ]
  },
  {
   "cell_type": "code",
   "execution_count": 2,
   "id": "7cf6705b-a61b-41c3-ba8d-5c46d0f03f90",
   "metadata": {},
   "outputs": [],
   "source": [
    "import os\n",
    "import pandas as pd\n",
    "import numpy as np\n",
    "import matplotlib.pyplot as plt\n",
    "import seaborn as sns\n",
    "import statsmodels.formula.api as smf\n",
    "\n",
    "from linearmodels.panel import PanelOLS, FamaMacBeth\n",
    "from patsy import dmatrices\n",
    "\n",
    "os.chdir('/Users/yiyujie/Desktop/program/ML')\n",
    "data = pd.read_csv('imports85_modified-1.csv',header = 0, sep = ',')"
   ]
  },
  {
   "cell_type": "markdown",
   "id": "0bce243e-7c31-4897-9045-d44e7a30ba4f",
   "metadata": {},
   "source": [
    "1. Regress fuel efficiency (city.mpg) on horsepower without fixed effects. What would you conclude based on that regression?"
   ]
  },
  {
   "cell_type": "code",
   "execution_count": 3,
   "id": "a297c084-382e-428e-a11f-974f92906cd9",
   "metadata": {},
   "outputs": [
    {
     "data": {
      "text/html": [
       "<table class=\"simpletable\">\n",
       "<caption>OLS Regression Results</caption>\n",
       "<tr>\n",
       "  <th>Dep. Variable:</th>      <td>Q(\"city.mpg\")</td>  <th>  R-squared:         </th> <td>   0.049</td>\n",
       "</tr>\n",
       "<tr>\n",
       "  <th>Model:</th>                   <td>OLS</td>       <th>  Adj. R-squared:    </th> <td>   0.044</td>\n",
       "</tr>\n",
       "<tr>\n",
       "  <th>Method:</th>             <td>Least Squares</td>  <th>  F-statistic:       </th> <td>   10.25</td>\n",
       "</tr>\n",
       "<tr>\n",
       "  <th>Date:</th>             <td>Mon, 15 Apr 2024</td> <th>  Prob (F-statistic):</th>  <td>0.00159</td>\n",
       "</tr>\n",
       "<tr>\n",
       "  <th>Time:</th>                 <td>13:42:29</td>     <th>  Log-Likelihood:    </th> <td> -689.24</td>\n",
       "</tr>\n",
       "<tr>\n",
       "  <th>No. Observations:</th>      <td>   203</td>      <th>  AIC:               </th> <td>   1382.</td>\n",
       "</tr>\n",
       "<tr>\n",
       "  <th>Df Residuals:</th>          <td>   201</td>      <th>  BIC:               </th> <td>   1389.</td>\n",
       "</tr>\n",
       "<tr>\n",
       "  <th>Df Model:</th>              <td>     1</td>      <th>                     </th>     <td> </td>   \n",
       "</tr>\n",
       "<tr>\n",
       "  <th>Covariance Type:</th>      <td>nonrobust</td>    <th>                     </th>     <td> </td>   \n",
       "</tr>\n",
       "</table>\n",
       "<table class=\"simpletable\">\n",
       "<tr>\n",
       "       <td></td>         <th>coef</th>     <th>std err</th>      <th>t</th>      <th>P>|t|</th>  <th>[0.025</th>    <th>0.975]</th>  \n",
       "</tr>\n",
       "<tr>\n",
       "  <th>Intercept</th>  <td>   12.2295</td> <td>    1.433</td> <td>    8.534</td> <td> 0.000</td> <td>    9.404</td> <td>   15.055</td>\n",
       "</tr>\n",
       "<tr>\n",
       "  <th>horsepower</th> <td>    0.0411</td> <td>    0.013</td> <td>    3.201</td> <td> 0.002</td> <td>    0.016</td> <td>    0.066</td>\n",
       "</tr>\n",
       "</table>\n",
       "<table class=\"simpletable\">\n",
       "<tr>\n",
       "  <th>Omnibus:</th>       <td>159.253</td> <th>  Durbin-Watson:     </th> <td>   1.190</td>\n",
       "</tr>\n",
       "<tr>\n",
       "  <th>Prob(Omnibus):</th> <td> 0.000</td>  <th>  Jarque-Bera (JB):  </th> <td>2717.537</td>\n",
       "</tr>\n",
       "<tr>\n",
       "  <th>Skew:</th>          <td> 2.800</td>  <th>  Prob(JB):          </th> <td>    0.00</td>\n",
       "</tr>\n",
       "<tr>\n",
       "  <th>Kurtosis:</th>      <td>20.027</td>  <th>  Cond. No.          </th> <td>    314.</td>\n",
       "</tr>\n",
       "</table><br/><br/>Notes:<br/>[1] Standard Errors assume that the covariance matrix of the errors is correctly specified."
      ],
      "text/latex": [
       "\\begin{center}\n",
       "\\begin{tabular}{lclc}\n",
       "\\toprule\n",
       "\\textbf{Dep. Variable:}    &  Q(\"city.mpg\")   & \\textbf{  R-squared:         } &     0.049   \\\\\n",
       "\\textbf{Model:}            &       OLS        & \\textbf{  Adj. R-squared:    } &     0.044   \\\\\n",
       "\\textbf{Method:}           &  Least Squares   & \\textbf{  F-statistic:       } &     10.25   \\\\\n",
       "\\textbf{Date:}             & Mon, 15 Apr 2024 & \\textbf{  Prob (F-statistic):} &  0.00159    \\\\\n",
       "\\textbf{Time:}             &     13:42:29     & \\textbf{  Log-Likelihood:    } &   -689.24   \\\\\n",
       "\\textbf{No. Observations:} &         203      & \\textbf{  AIC:               } &     1382.   \\\\\n",
       "\\textbf{Df Residuals:}     &         201      & \\textbf{  BIC:               } &     1389.   \\\\\n",
       "\\textbf{Df Model:}         &           1      & \\textbf{                     } &             \\\\\n",
       "\\textbf{Covariance Type:}  &    nonrobust     & \\textbf{                     } &             \\\\\n",
       "\\bottomrule\n",
       "\\end{tabular}\n",
       "\\begin{tabular}{lcccccc}\n",
       "                    & \\textbf{coef} & \\textbf{std err} & \\textbf{t} & \\textbf{P$> |$t$|$} & \\textbf{[0.025} & \\textbf{0.975]}  \\\\\n",
       "\\midrule\n",
       "\\textbf{Intercept}  &      12.2295  &        1.433     &     8.534  &         0.000        &        9.404    &       15.055     \\\\\n",
       "\\textbf{horsepower} &       0.0411  &        0.013     &     3.201  &         0.002        &        0.016    &        0.066     \\\\\n",
       "\\bottomrule\n",
       "\\end{tabular}\n",
       "\\begin{tabular}{lclc}\n",
       "\\textbf{Omnibus:}       & 159.253 & \\textbf{  Durbin-Watson:     } &    1.190  \\\\\n",
       "\\textbf{Prob(Omnibus):} &   0.000 & \\textbf{  Jarque-Bera (JB):  } & 2717.537  \\\\\n",
       "\\textbf{Skew:}          &   2.800 & \\textbf{  Prob(JB):          } &     0.00  \\\\\n",
       "\\textbf{Kurtosis:}      &  20.027 & \\textbf{  Cond. No.          } &     314.  \\\\\n",
       "\\bottomrule\n",
       "\\end{tabular}\n",
       "%\\caption{OLS Regression Results}\n",
       "\\end{center}\n",
       "\n",
       "Notes: \\newline\n",
       " [1] Standard Errors assume that the covariance matrix of the errors is correctly specified."
      ],
      "text/plain": [
       "<class 'statsmodels.iolib.summary.Summary'>\n",
       "\"\"\"\n",
       "                            OLS Regression Results                            \n",
       "==============================================================================\n",
       "Dep. Variable:          Q(\"city.mpg\")   R-squared:                       0.049\n",
       "Model:                            OLS   Adj. R-squared:                  0.044\n",
       "Method:                 Least Squares   F-statistic:                     10.25\n",
       "Date:                Mon, 15 Apr 2024   Prob (F-statistic):            0.00159\n",
       "Time:                        13:42:29   Log-Likelihood:                -689.24\n",
       "No. Observations:                 203   AIC:                             1382.\n",
       "Df Residuals:                     201   BIC:                             1389.\n",
       "Df Model:                           1                                         \n",
       "Covariance Type:            nonrobust                                         \n",
       "==============================================================================\n",
       "                 coef    std err          t      P>|t|      [0.025      0.975]\n",
       "------------------------------------------------------------------------------\n",
       "Intercept     12.2295      1.433      8.534      0.000       9.404      15.055\n",
       "horsepower     0.0411      0.013      3.201      0.002       0.016       0.066\n",
       "==============================================================================\n",
       "Omnibus:                      159.253   Durbin-Watson:                   1.190\n",
       "Prob(Omnibus):                  0.000   Jarque-Bera (JB):             2717.537\n",
       "Skew:                           2.800   Prob(JB):                         0.00\n",
       "Kurtosis:                      20.027   Cond. No.                         314.\n",
       "==============================================================================\n",
       "\n",
       "Notes:\n",
       "[1] Standard Errors assume that the covariance matrix of the errors is correctly specified.\n",
       "\"\"\""
      ]
     },
     "execution_count": 3,
     "metadata": {},
     "output_type": "execute_result"
    }
   ],
   "source": [
    "data.dropna(subset=['horsepower'],inplace=True)\n",
    "\n",
    "model = smf.ols('Q(\"city.mpg\") ~ horsepower', data=data).fit()\n",
    "model.summary()"
   ]
  },
  {
   "cell_type": "markdown",
   "id": "4586d480-fc10-42fa-a9ed-83670c3b7050",
   "metadata": {},
   "source": [
    "* The relationship between horsepower and city.mpg is statistically significant, but the R-squared value is quite low, meaning that horsepower alone does not explain a large proportion of the variability in city.mpg."
   ]
  },
  {
   "cell_type": "markdown",
   "id": "c5fee9cf-d8ea-4d5e-a391-0071eab303f3",
   "metadata": {},
   "source": [
    "2. Repeat the same regression but this time, add a fixed effect for number of cylinders being “two” or “four”. What would you conclude based on this new regression? What do you think drives the results in part 1?"
   ]
  },
  {
   "cell_type": "code",
   "execution_count": 4,
   "id": "339d6977-4bf7-422e-9033-18217fc5a705",
   "metadata": {},
   "outputs": [
    {
     "data": {
      "text/html": [
       "<table class=\"simpletable\">\n",
       "<caption>OLS Regression Results</caption>\n",
       "<tr>\n",
       "  <th>Dep. Variable:</th>      <td>Q(\"city.mpg\")</td>  <th>  R-squared:         </th> <td>   0.823</td>\n",
       "</tr>\n",
       "<tr>\n",
       "  <th>Model:</th>                   <td>OLS</td>       <th>  Adj. R-squared:    </th> <td>   0.822</td>\n",
       "</tr>\n",
       "<tr>\n",
       "  <th>Method:</th>             <td>Least Squares</td>  <th>  F-statistic:       </th> <td>   466.3</td>\n",
       "</tr>\n",
       "<tr>\n",
       "  <th>Date:</th>             <td>Mon, 15 Apr 2024</td> <th>  Prob (F-statistic):</th> <td>4.92e-76</td>\n",
       "</tr>\n",
       "<tr>\n",
       "  <th>Time:</th>                 <td>13:42:31</td>     <th>  Log-Likelihood:    </th> <td> -518.28</td>\n",
       "</tr>\n",
       "<tr>\n",
       "  <th>No. Observations:</th>      <td>   203</td>      <th>  AIC:               </th> <td>   1043.</td>\n",
       "</tr>\n",
       "<tr>\n",
       "  <th>Df Residuals:</th>          <td>   200</td>      <th>  BIC:               </th> <td>   1053.</td>\n",
       "</tr>\n",
       "<tr>\n",
       "  <th>Df Model:</th>              <td>     2</td>      <th>                     </th>     <td> </td>   \n",
       "</tr>\n",
       "<tr>\n",
       "  <th>Covariance Type:</th>      <td>nonrobust</td>    <th>                     </th>     <td> </td>   \n",
       "</tr>\n",
       "</table>\n",
       "<table class=\"simpletable\">\n",
       "<tr>\n",
       "       <td></td>         <th>coef</th>     <th>std err</th>      <th>t</th>      <th>P>|t|</th>  <th>[0.025</th>    <th>0.975]</th>  \n",
       "</tr>\n",
       "<tr>\n",
       "  <th>Intercept</th>  <td>   43.8952</td> <td>    1.235</td> <td>   35.542</td> <td> 0.000</td> <td>   41.460</td> <td>   46.331</td>\n",
       "</tr>\n",
       "<tr>\n",
       "  <th>horsepower</th> <td>   -0.1010</td> <td>    0.007</td> <td>  -13.765</td> <td> 0.000</td> <td>   -0.115</td> <td>   -0.086</td>\n",
       "</tr>\n",
       "<tr>\n",
       "  <th>is_24</th>      <td>  -21.2495</td> <td>    0.717</td> <td>  -29.627</td> <td> 0.000</td> <td>  -22.664</td> <td>  -19.835</td>\n",
       "</tr>\n",
       "</table>\n",
       "<table class=\"simpletable\">\n",
       "<tr>\n",
       "  <th>Omnibus:</th>       <td>261.365</td> <th>  Durbin-Watson:     </th> <td>   1.689</td> \n",
       "</tr>\n",
       "<tr>\n",
       "  <th>Prob(Omnibus):</th> <td> 0.000</td>  <th>  Jarque-Bera (JB):  </th> <td>22114.869</td>\n",
       "</tr>\n",
       "<tr>\n",
       "  <th>Skew:</th>          <td> 5.258</td>  <th>  Prob(JB):          </th> <td>    0.00</td> \n",
       "</tr>\n",
       "<tr>\n",
       "  <th>Kurtosis:</th>      <td>53.040</td>  <th>  Cond. No.          </th> <td>    706.</td> \n",
       "</tr>\n",
       "</table><br/><br/>Notes:<br/>[1] Standard Errors assume that the covariance matrix of the errors is correctly specified."
      ],
      "text/latex": [
       "\\begin{center}\n",
       "\\begin{tabular}{lclc}\n",
       "\\toprule\n",
       "\\textbf{Dep. Variable:}    &  Q(\"city.mpg\")   & \\textbf{  R-squared:         } &     0.823   \\\\\n",
       "\\textbf{Model:}            &       OLS        & \\textbf{  Adj. R-squared:    } &     0.822   \\\\\n",
       "\\textbf{Method:}           &  Least Squares   & \\textbf{  F-statistic:       } &     466.3   \\\\\n",
       "\\textbf{Date:}             & Mon, 15 Apr 2024 & \\textbf{  Prob (F-statistic):} &  4.92e-76   \\\\\n",
       "\\textbf{Time:}             &     13:42:31     & \\textbf{  Log-Likelihood:    } &   -518.28   \\\\\n",
       "\\textbf{No. Observations:} &         203      & \\textbf{  AIC:               } &     1043.   \\\\\n",
       "\\textbf{Df Residuals:}     &         200      & \\textbf{  BIC:               } &     1053.   \\\\\n",
       "\\textbf{Df Model:}         &           2      & \\textbf{                     } &             \\\\\n",
       "\\textbf{Covariance Type:}  &    nonrobust     & \\textbf{                     } &             \\\\\n",
       "\\bottomrule\n",
       "\\end{tabular}\n",
       "\\begin{tabular}{lcccccc}\n",
       "                    & \\textbf{coef} & \\textbf{std err} & \\textbf{t} & \\textbf{P$> |$t$|$} & \\textbf{[0.025} & \\textbf{0.975]}  \\\\\n",
       "\\midrule\n",
       "\\textbf{Intercept}  &      43.8952  &        1.235     &    35.542  &         0.000        &       41.460    &       46.331     \\\\\n",
       "\\textbf{horsepower} &      -0.1010  &        0.007     &   -13.765  &         0.000        &       -0.115    &       -0.086     \\\\\n",
       "\\textbf{is\\_24}     &     -21.2495  &        0.717     &   -29.627  &         0.000        &      -22.664    &      -19.835     \\\\\n",
       "\\bottomrule\n",
       "\\end{tabular}\n",
       "\\begin{tabular}{lclc}\n",
       "\\textbf{Omnibus:}       & 261.365 & \\textbf{  Durbin-Watson:     } &     1.689  \\\\\n",
       "\\textbf{Prob(Omnibus):} &   0.000 & \\textbf{  Jarque-Bera (JB):  } & 22114.869  \\\\\n",
       "\\textbf{Skew:}          &   5.258 & \\textbf{  Prob(JB):          } &      0.00  \\\\\n",
       "\\textbf{Kurtosis:}      &  53.040 & \\textbf{  Cond. No.          } &      706.  \\\\\n",
       "\\bottomrule\n",
       "\\end{tabular}\n",
       "%\\caption{OLS Regression Results}\n",
       "\\end{center}\n",
       "\n",
       "Notes: \\newline\n",
       " [1] Standard Errors assume that the covariance matrix of the errors is correctly specified."
      ],
      "text/plain": [
       "<class 'statsmodels.iolib.summary.Summary'>\n",
       "\"\"\"\n",
       "                            OLS Regression Results                            \n",
       "==============================================================================\n",
       "Dep. Variable:          Q(\"city.mpg\")   R-squared:                       0.823\n",
       "Model:                            OLS   Adj. R-squared:                  0.822\n",
       "Method:                 Least Squares   F-statistic:                     466.3\n",
       "Date:                Mon, 15 Apr 2024   Prob (F-statistic):           4.92e-76\n",
       "Time:                        13:42:31   Log-Likelihood:                -518.28\n",
       "No. Observations:                 203   AIC:                             1043.\n",
       "Df Residuals:                     200   BIC:                             1053.\n",
       "Df Model:                           2                                         \n",
       "Covariance Type:            nonrobust                                         \n",
       "==============================================================================\n",
       "                 coef    std err          t      P>|t|      [0.025      0.975]\n",
       "------------------------------------------------------------------------------\n",
       "Intercept     43.8952      1.235     35.542      0.000      41.460      46.331\n",
       "horsepower    -0.1010      0.007    -13.765      0.000      -0.115      -0.086\n",
       "is_24        -21.2495      0.717    -29.627      0.000     -22.664     -19.835\n",
       "==============================================================================\n",
       "Omnibus:                      261.365   Durbin-Watson:                   1.689\n",
       "Prob(Omnibus):                  0.000   Jarque-Bera (JB):            22114.869\n",
       "Skew:                           5.258   Prob(JB):                         0.00\n",
       "Kurtosis:                      53.040   Cond. No.                         706.\n",
       "==============================================================================\n",
       "\n",
       "Notes:\n",
       "[1] Standard Errors assume that the covariance matrix of the errors is correctly specified.\n",
       "\"\"\""
      ]
     },
     "execution_count": 4,
     "metadata": {},
     "output_type": "execute_result"
    }
   ],
   "source": [
    "data['is_24'] = 0\n",
    "data.loc[data['num.of.cylinders'].isin(['two','four']),'is_24'] = 1\n",
    "model = smf.ols('Q(\"city.mpg\") ~ horsepower + is_24', data=data).fit()\n",
    "model.summary()"
   ]
  },
  {
   "cell_type": "markdown",
   "id": "17587484-0fcb-404f-9818-f1fb41c0d23e",
   "metadata": {},
   "source": [
    "* Adding the binary fixed effect for 'is_24' significantly changes the interpretation of the relationship between horsepower and city.mpg. This indicates that the number of cylinders is an important variable that affects fuel efficiency and should be controlled for in the model.\n",
    "* The new regression suggests that the number of cylinders is an important factor driving the results seen in part 1. In the absence of controlling for the number of cylinders, it seemed like horsepower had a positive effect on fuel efficiency (city.mpg), which is counterintuitive. Once we control for the number of cylinders, we get a more realistic picture where horsepower has a negative impact on fuel efficiency, which is what we would generally expect."
   ]
  },
  {
   "cell_type": "markdown",
   "id": "d6951b42-d8b0-4023-a44a-3f5f390dbcbf",
   "metadata": {},
   "source": [
    "3. (Within transformation) Now obtain the mean city.mpg and horsepower for each group. Use these group means to demean horsepower and city.mpg. Run the same regression you ran in part 1. Are the results different? Are the results obtained here different from the results in part 2? What does this tell you about the relation between fixed effect regressions and within transformations"
   ]
  },
  {
   "cell_type": "code",
   "execution_count": 5,
   "id": "2e3d8862-279f-465b-8f05-8b361b195336",
   "metadata": {},
   "outputs": [],
   "source": [
    "group_means = data.groupby('is_24')[['city.mpg','horsepower']].mean()\n",
    "data = data.join(group_means, on='is_24', rsuffix='_mean')"
   ]
  },
  {
   "cell_type": "code",
   "execution_count": 9,
   "id": "97df2656-38f7-44ea-8542-56e9d0d5a958",
   "metadata": {
    "scrolled": true
   },
   "outputs": [],
   "source": [
    "# longxia\n",
    "data['groupmean_city_mpg'] = data.groupby('is_24')['city.mpg'].transform('mean')\n",
    "data['groupmean_horsepower'] = data.groupby('is_24').horsepower.transform('mean')"
   ]
  },
  {
   "cell_type": "code",
   "execution_count": 10,
   "id": "48ac9a0f-06f8-4930-8ac2-ce4321a354c1",
   "metadata": {},
   "outputs": [
    {
     "data": {
      "text/html": [
       "<table class=\"simpletable\">\n",
       "<caption>OLS Regression Results</caption>\n",
       "<tr>\n",
       "  <th>Dep. Variable:</th>    <td>Q(\"city.mpg_demeaned\")</td> <th>  R-squared:         </th> <td>   0.487</td>\n",
       "</tr>\n",
       "<tr>\n",
       "  <th>Model:</th>                      <td>OLS</td>          <th>  Adj. R-squared:    </th> <td>   0.484</td>\n",
       "</tr>\n",
       "<tr>\n",
       "  <th>Method:</th>                <td>Least Squares</td>     <th>  F-statistic:       </th> <td>   190.4</td>\n",
       "</tr>\n",
       "<tr>\n",
       "  <th>Date:</th>                <td>Mon, 15 Apr 2024</td>    <th>  Prob (F-statistic):</th> <td>6.50e-31</td>\n",
       "</tr>\n",
       "<tr>\n",
       "  <th>Time:</th>                    <td>13:43:41</td>        <th>  Log-Likelihood:    </th> <td> -518.28</td>\n",
       "</tr>\n",
       "<tr>\n",
       "  <th>No. Observations:</th>         <td>   203</td>         <th>  AIC:               </th> <td>   1041.</td>\n",
       "</tr>\n",
       "<tr>\n",
       "  <th>Df Residuals:</th>             <td>   201</td>         <th>  BIC:               </th> <td>   1047.</td>\n",
       "</tr>\n",
       "<tr>\n",
       "  <th>Df Model:</th>                 <td>     1</td>         <th>                     </th>     <td> </td>   \n",
       "</tr>\n",
       "<tr>\n",
       "  <th>Covariance Type:</th>         <td>nonrobust</td>       <th>                     </th>     <td> </td>   \n",
       "</tr>\n",
       "</table>\n",
       "<table class=\"simpletable\">\n",
       "<tr>\n",
       "           <td></td>              <th>coef</th>     <th>std err</th>      <th>t</th>      <th>P>|t|</th>  <th>[0.025</th>    <th>0.975]</th>  \n",
       "</tr>\n",
       "<tr>\n",
       "  <th>Intercept</th>           <td>-5.204e-17</td> <td>    0.219</td> <td>-2.37e-16</td> <td> 1.000</td> <td>   -0.432</td> <td>    0.432</td>\n",
       "</tr>\n",
       "<tr>\n",
       "  <th>horsepower_demeaned</th> <td>   -0.1010</td> <td>    0.007</td> <td>  -13.800</td> <td> 0.000</td> <td>   -0.115</td> <td>   -0.087</td>\n",
       "</tr>\n",
       "</table>\n",
       "<table class=\"simpletable\">\n",
       "<tr>\n",
       "  <th>Omnibus:</th>       <td>261.365</td> <th>  Durbin-Watson:     </th> <td>   1.689</td> \n",
       "</tr>\n",
       "<tr>\n",
       "  <th>Prob(Omnibus):</th> <td> 0.000</td>  <th>  Jarque-Bera (JB):  </th> <td>22114.869</td>\n",
       "</tr>\n",
       "<tr>\n",
       "  <th>Skew:</th>          <td> 5.258</td>  <th>  Prob(JB):          </th> <td>    0.00</td> \n",
       "</tr>\n",
       "<tr>\n",
       "  <th>Kurtosis:</th>      <td>53.040</td>  <th>  Cond. No.          </th> <td>    30.0</td> \n",
       "</tr>\n",
       "</table><br/><br/>Notes:<br/>[1] Standard Errors assume that the covariance matrix of the errors is correctly specified."
      ],
      "text/latex": [
       "\\begin{center}\n",
       "\\begin{tabular}{lclc}\n",
       "\\toprule\n",
       "\\textbf{Dep. Variable:}       & Q(\"city.mpg\\_demeaned\") & \\textbf{  R-squared:         } &     0.487   \\\\\n",
       "\\textbf{Model:}               &           OLS           & \\textbf{  Adj. R-squared:    } &     0.484   \\\\\n",
       "\\textbf{Method:}              &      Least Squares      & \\textbf{  F-statistic:       } &     190.4   \\\\\n",
       "\\textbf{Date:}                &     Mon, 15 Apr 2024    & \\textbf{  Prob (F-statistic):} &  6.50e-31   \\\\\n",
       "\\textbf{Time:}                &         13:43:41        & \\textbf{  Log-Likelihood:    } &   -518.28   \\\\\n",
       "\\textbf{No. Observations:}    &             203         & \\textbf{  AIC:               } &     1041.   \\\\\n",
       "\\textbf{Df Residuals:}        &             201         & \\textbf{  BIC:               } &     1047.   \\\\\n",
       "\\textbf{Df Model:}            &               1         & \\textbf{                     } &             \\\\\n",
       "\\textbf{Covariance Type:}     &        nonrobust        & \\textbf{                     } &             \\\\\n",
       "\\bottomrule\n",
       "\\end{tabular}\n",
       "\\begin{tabular}{lcccccc}\n",
       "                              & \\textbf{coef} & \\textbf{std err} & \\textbf{t} & \\textbf{P$> |$t$|$} & \\textbf{[0.025} & \\textbf{0.975]}  \\\\\n",
       "\\midrule\n",
       "\\textbf{Intercept}            &   -5.204e-17  &        0.219     & -2.37e-16  &         1.000        &       -0.432    &        0.432     \\\\\n",
       "\\textbf{horsepower\\_demeaned} &      -0.1010  &        0.007     &   -13.800  &         0.000        &       -0.115    &       -0.087     \\\\\n",
       "\\bottomrule\n",
       "\\end{tabular}\n",
       "\\begin{tabular}{lclc}\n",
       "\\textbf{Omnibus:}       & 261.365 & \\textbf{  Durbin-Watson:     } &     1.689  \\\\\n",
       "\\textbf{Prob(Omnibus):} &   0.000 & \\textbf{  Jarque-Bera (JB):  } & 22114.869  \\\\\n",
       "\\textbf{Skew:}          &   5.258 & \\textbf{  Prob(JB):          } &      0.00  \\\\\n",
       "\\textbf{Kurtosis:}      &  53.040 & \\textbf{  Cond. No.          } &      30.0  \\\\\n",
       "\\bottomrule\n",
       "\\end{tabular}\n",
       "%\\caption{OLS Regression Results}\n",
       "\\end{center}\n",
       "\n",
       "Notes: \\newline\n",
       " [1] Standard Errors assume that the covariance matrix of the errors is correctly specified."
      ],
      "text/plain": [
       "<class 'statsmodels.iolib.summary.Summary'>\n",
       "\"\"\"\n",
       "                              OLS Regression Results                              \n",
       "==================================================================================\n",
       "Dep. Variable:     Q(\"city.mpg_demeaned\")   R-squared:                       0.487\n",
       "Model:                                OLS   Adj. R-squared:                  0.484\n",
       "Method:                     Least Squares   F-statistic:                     190.4\n",
       "Date:                    Mon, 15 Apr 2024   Prob (F-statistic):           6.50e-31\n",
       "Time:                            13:43:41   Log-Likelihood:                -518.28\n",
       "No. Observations:                     203   AIC:                             1041.\n",
       "Df Residuals:                         201   BIC:                             1047.\n",
       "Df Model:                               1                                         \n",
       "Covariance Type:                nonrobust                                         \n",
       "=======================================================================================\n",
       "                          coef    std err          t      P>|t|      [0.025      0.975]\n",
       "---------------------------------------------------------------------------------------\n",
       "Intercept           -5.204e-17      0.219  -2.37e-16      1.000      -0.432       0.432\n",
       "horsepower_demeaned    -0.1010      0.007    -13.800      0.000      -0.115      -0.087\n",
       "==============================================================================\n",
       "Omnibus:                      261.365   Durbin-Watson:                   1.689\n",
       "Prob(Omnibus):                  0.000   Jarque-Bera (JB):            22114.869\n",
       "Skew:                           5.258   Prob(JB):                         0.00\n",
       "Kurtosis:                      53.040   Cond. No.                         30.0\n",
       "==============================================================================\n",
       "\n",
       "Notes:\n",
       "[1] Standard Errors assume that the covariance matrix of the errors is correctly specified.\n",
       "\"\"\""
      ]
     },
     "execution_count": 10,
     "metadata": {},
     "output_type": "execute_result"
    }
   ],
   "source": [
    "data['city.mpg_demeaned'] = data['city.mpg'] - data['city.mpg_mean']\n",
    "data['horsepower_demeaned'] = data['horsepower'] - data['horsepower_mean']\n",
    "model_1 = smf.ols('Q(\"city.mpg_demeaned\") ~ horsepower_demeaned', data=data).fit()\n",
    "model_1.summary()"
   ]
  },
  {
   "cell_type": "markdown",
   "id": "d4700741-1d8b-4423-a564-9b6d91450ba1",
   "metadata": {},
   "source": [
    "* The coefficient for demeaned 'horsepower' is negative and significant, suggesting a negative relationship between horsepower and fuel efficiency within groups.\n",
    "* The result is different from part 1. In part 1 (without fixed effects), the relationship between horsepower and fuel efficiency was positive, which was counterintuitive.\n",
    "* The result is slightly different from part 2. The within transformation effectively removes the influence of all unobserved, time-invariant characteristics, allowing for a cleaner estimate of the impact of horsepower on fuel efficiency."
   ]
  },
  {
   "cell_type": "markdown",
   "id": "942373fe-b035-491f-9db8-18e41cc9a11d",
   "metadata": {},
   "source": [
    "## Question 2: On marginal significance and trading strategy improvements\n",
    "You come up with a signal of stock outperformance: log total asset growth. You realize that your professor has conveniently already coded up this variable for you in the dataset StockRetAcct_DT.csv. The variable is called \"lnInv\".\n",
    "1. Using the Fama-MacBeth regression approach, what are the average return, standard deviation and Sharpe ratio of the trading strategy implied by using only an intercept and lnInv on the right hand side in the regressions?"
   ]
  },
  {
   "cell_type": "code",
   "execution_count": 6,
   "id": "661a10bf-5786-449f-a6dd-604fac6c15fb",
   "metadata": {},
   "outputs": [],
   "source": [
    "import warnings\n",
    "warnings.filterwarnings('ignore', category=FutureWarning)"
   ]
  },
  {
   "cell_type": "code",
   "execution_count": 12,
   "id": "f765b08b-1a82-4633-9b7b-65a78da66103",
   "metadata": {},
   "outputs": [
    {
     "name": "stdout",
     "output_type": "stream",
     "text": [
      "Mean Return: \n",
      "0.08679146319781363\n",
      "\n",
      "Std Dev:      \n",
      "0.14864410759416122\n",
      "\n",
      "Sharpe Ratio \n",
      "0.5838876804641183\n",
      "\n",
      "t-stat:      \n",
      "3.4543261019946985\n"
     ]
    },
    {
     "name": "stderr",
     "output_type": "stream",
     "text": [
      "/var/folders/l_/m6g3497s5j77bqb9jr7506tc0000gn/T/ipykernel_18755/311495048.py:7: DeprecationWarning: DataFrameGroupBy.apply operated on the grouping columns. This behavior is deprecated, and in a future version of pandas the grouping columns will be excluded from the operation. Either pass `include_groups=False` to exclude the groupings or explicitly select the grouping columns after groupby to silence this warning.\n",
      "  res = data2.groupby('year').apply(ols_coef,'ExRet ~ 1 + neg_lnInv')\n"
     ]
    }
   ],
   "source": [
    "data2 = pd.read_csv('StockRetAcct_DT.csv',header = 0, sep = ',').drop('Unnamed: 0', axis=1)\n",
    "data2['ExRet'] = np.exp(data2.lnAnnRet) - np.exp(data2.lnRf)\n",
    "def ols_coef(x,formula): \n",
    "    return smf.ols(formula,data=x).fit().params\n",
    "data2['neg_lnInv'] = -data2['lnInv']\n",
    "data2 = data2.dropna(subset=['neg_lnInv', 'ExRet'])\n",
    "res = data2.groupby('year').apply(ols_coef,'ExRet ~ 1 + neg_lnInv')\n",
    "print('Mean Return: ' , str(res['neg_lnInv'].mean())+'\\n', \n",
    "      'Std Dev:      ', str(res['neg_lnInv'].std())+'\\n', \n",
    "      'Sharpe Ratio ' , str(res['neg_lnInv'].mean()/ res['neg_lnInv'].std())+'\\n', \n",
    "      't-stat:      ' , str(35**.5*(res['neg_lnInv'].mean())/ res['neg_lnInv'].std()), sep=\"\\n\")"
   ]
  },
  {
   "cell_type": "markdown",
   "id": "ca247751-c2d9-4196-b54c-a8ddec1dc030",
   "metadata": {},
   "source": [
    "2. What is the analytical expression for the portfolio weights in this case? (I'm looking for a formula)"
   ]
  },
  {
   "cell_type": "markdown",
   "id": "aa07f0f7-7dce-4046-bf95-88d6c7582d5d",
   "metadata": {},
   "source": [
    "$$\\begin{align*}\n",
    "w_{i,t-1}=\\frac{1}{N}\\frac{lnInv_{i,t-1}-E_N[lnInv_{i,t-1}]}{Var_N[lnInv_{i,t-1}]}\n",
    "\\end{align*}$$"
   ]
  },
  {
   "cell_type": "markdown",
   "id": "b8254d1a-8c5f-4a91-9eda-0b8a25e7ea97",
   "metadata": {},
   "source": [
    "3. You worry that there is industry-related noise associated with the characteristic lnInv and want to clean up your trading strategy with the goal of reducing exposure to unpriced industry risks. What regressions to you run? Report mean, standard deviation, and Sharpe ratio of the 'cleaned-up' trading strategy."
   ]
  },
  {
   "cell_type": "code",
   "execution_count": 13,
   "id": "2ca4e329-d838-42bf-9dc1-feee05229927",
   "metadata": {},
   "outputs": [
    {
     "name": "stdout",
     "output_type": "stream",
     "text": [
      "Mean Return: \n",
      "0.08257761689795615\n",
      "\n",
      "Std Dev:      \n",
      "0.10196423000688849\n",
      "\n",
      "Sharpe Ratio \n",
      "0.8098684891003185\n",
      "\n",
      "t-stat:      \n",
      "4.791246595335826\n"
     ]
    },
    {
     "name": "stderr",
     "output_type": "stream",
     "text": [
      "/var/folders/l_/m6g3497s5j77bqb9jr7506tc0000gn/T/ipykernel_18755/2841309710.py:2: DeprecationWarning: DataFrameGroupBy.apply operated on the grouping columns. This behavior is deprecated, and in a future version of pandas the grouping columns will be excluded from the operation. Either pass `include_groups=False` to exclude the groupings or explicitly select the grouping columns after groupby to silence this warning.\n",
      "  res = (data2.groupby('year').apply(ols_coef, 'ExRet ~ 1 + neg_lnInv + C(ff_ind)'))\n"
     ]
    }
   ],
   "source": [
    "data2.dropna(subset=['ExRet', 'neg_lnInv', 'ff_ind'], inplace = True)\n",
    "res = (data2.groupby('year').apply(ols_coef, 'ExRet ~ 1 + neg_lnInv + C(ff_ind)'))\n",
    "print('Mean Return: ' , str(res['neg_lnInv'].mean())+'\\n', \n",
    "      'Std Dev:      ', str(res['neg_lnInv'].std())+'\\n', \n",
    "      'Sharpe Ratio ' , str(res['neg_lnInv'].mean()/ res['neg_lnInv'].std())+'\\n', \n",
    "      't-stat:      ' , str(35**.5*(res['neg_lnInv'].mean())/ res['neg_lnInv'].std()), sep=\"\\n\")"
   ]
  },
  {
   "cell_type": "markdown",
   "id": "bbb7864b-ac1d-41f0-a281-d776c3d5b57d",
   "metadata": {},
   "source": [
    "4. As in the class notes, plot the cumulative returns to the simple and the 'cleaned-up' trading strategies based on your new signal, lnInv. Make sure both trading strategies result in portfolios with a 15% return standard deviation."
   ]
  },
  {
   "cell_type": "code",
   "execution_count": 14,
   "id": "c5f3c37b-cbf7-4b72-acad-6f04a6da5107",
   "metadata": {},
   "outputs": [
    {
     "name": "stderr",
     "output_type": "stream",
     "text": [
      "/Users/yiyujie/anaconda3/lib/python3.11/site-packages/seaborn/_oldcore.py:1119: FutureWarning: use_inf_as_na option is deprecated and will be removed in a future version. Convert inf values to NaN before operating instead.\n",
      "  with pd.option_context('mode.use_inf_as_na', True):\n",
      "/Users/yiyujie/anaconda3/lib/python3.11/site-packages/seaborn/_oldcore.py:1119: FutureWarning: use_inf_as_na option is deprecated and will be removed in a future version. Convert inf values to NaN before operating instead.\n",
      "  with pd.option_context('mode.use_inf_as_na', True):\n"
     ]
    },
    {
     "data": {
      "text/plain": [
       "[Text(0.5, 0, 'Year'),\n",
       " Text(0, 0.5, 'Cumulative Return'),\n",
       " Text(0.5, 1.0, 'cumulative returns to trading strategies based on lnInv')]"
      ]
     },
     "execution_count": 14,
     "metadata": {},
     "output_type": "execute_result"
    },
    {
     "data": {
      "image/png": "[encoded data removed]",
      "text/plain": [
       "<Figure size 640x480 with 1 Axes>"
      ]
     },
     "metadata": {},
     "output_type": "display_data"
    }
   ],
   "source": [
    "lnInv_stdev = res['neg_lnInv'].std() \n",
    "lnInv_ret = res['neg_lnInv']\n",
    "\n",
    "# for plotting, get the scaled excess portfolio returns \n",
    "lnInv_ret = lnInv_ret * 0.15 / lnInv_stdev \n",
    "\n",
    "# create cumulative log return series \n",
    "cum_ret_lnInv = pd.DataFrame.cumsum(np.log(1+lnInv_ret)) \n",
    "\n",
    "# Plot\n",
    "sns.set_style('darkgrid') \n",
    "plt.figure() \n",
    "ax = sns.lineplot(data = cum_ret_lnInv,dashes = False,linewidth = 3) \n",
    "ax.set(xlabel = 'Year', \n",
    "       ylabel = 'Cumulative Return', \n",
    "       title  = \"cumulative returns to trading strategies based on lnInv\")\n"
   ]
  },
  {
   "cell_type": "markdown",
   "id": "a40169da-3f5d-45f2-ad0c-ee2a289421be",
   "metadata": {},
   "source": [
    "## Question 3: Predicting medium to long‐run firm‐level return variance\n",
    "There are many return volatility models, such as GARCH. These work best at shorter horizons. As an alternative, we will explore a panel regression approach to predicting firm-level return variance. The data set StockRetAcct_DT.csv has annual realized variance (rv), calculated as the sum of squared daily returns to each firm, each year. Run panel forecasting regressions to forecast firm-level one-year ahead rv along the lines of what we did with lnROE in class.\n",
    "1. Try with and without industry and year fixed effects, with and without clustering of standard errors. Discuss which specification makes most sense to you. In particular, discuss the effect of a year fixed effect. What is the intuition for the impact of this fixed effect?"
   ]
  },
  {
   "cell_type": "code",
   "execution_count": 10,
   "id": "4e32bb43-e6ca-458e-b5bf-330a08fa7b3a",
   "metadata": {},
   "outputs": [],
   "source": [
    "from linearmodels.panel import PanelOLS\n",
    "data2.sort_values(['FirmID','year'], ascending=[True, True], inplace=True)\n",
    "data2['lead_rv'] = data2.groupby('FirmID')['rv'].shift(-1)\n",
    "data2 = data2[~data2.ff_ind.isna()]\n",
    "data2 = data2.set_index(['FirmID','year'])"
   ]
  },
  {
   "cell_type": "code",
   "execution_count": 11,
   "id": "0b6b7ace-816c-4d79-8d2d-9ea23913083c",
   "metadata": {
    "scrolled": true
   },
   "outputs": [
    {
     "name": "stdout",
     "output_type": "stream",
     "text": [
      "                          PanelOLS Estimation Summary                           \n",
      "================================================================================\n",
      "Dep. Variable:                lead_rv   R-squared:                        0.2572\n",
      "Estimator:                   PanelOLS   R-squared (Between):              0.5115\n",
      "No. Observations:               55142   R-squared (Within):               0.0016\n",
      "Date:                Sun, Apr 14 2024   R-squared (Overall):              0.2572\n",
      "Time:                        14:46:40   Log-likelihood                 2.582e+04\n",
      "Cov. Estimator:            Unadjusted                                           \n",
      "                                        F-statistic:                   1.909e+04\n",
      "Entities:                        6001   P-value                           0.0000\n",
      "Avg Obs:                       9.1888   Distribution:                 F(1,55140)\n",
      "Min Obs:                       1.0000                                           \n",
      "Max Obs:                       34.000   F-statistic (robust):          1.909e+04\n",
      "                                        P-value                           0.0000\n",
      "Time periods:                      34   Distribution:                 F(1,55140)\n",
      "Avg Obs:                       1621.8                                           \n",
      "Min Obs:                       1064.0                                           \n",
      "Max Obs:                       2110.0                                           \n",
      "                                                                                \n",
      "                             Parameter Estimates                              \n",
      "==============================================================================\n",
      "            Parameter  Std. Err.     T-stat    P-value    Lower CI    Upper CI\n",
      "------------------------------------------------------------------------------\n",
      "Intercept      0.0803     0.0009     89.973     0.0000      0.0786      0.0821\n",
      "rv             0.5030     0.0036     138.18     0.0000      0.4959      0.5102\n",
      "==============================================================================\n",
      "\n",
      "\n"
     ]
    },
    {
     "name": "stderr",
     "output_type": "stream",
     "text": [
      "/Users/yiyujie/anaconda3/lib/python3.11/site-packages/linearmodels/panel/model.py:1214: MissingValueWarning: \n",
      "Inputs contain missing values. Dropping rows with missing observations.\n",
      "  super().__init__(dependent, exog, weights=weights, check_rank=check_rank)\n"
     ]
    }
   ],
   "source": [
    "rv_panel = PanelOLS.from_formula(formula='lead_rv ~ 1 + rv', data = data2).fit()\n",
    "print(rv_panel)"
   ]
  },
  {
   "cell_type": "code",
   "execution_count": 12,
   "id": "db7e538f-4363-4208-892f-4468889249cc",
   "metadata": {
    "collapsed": true,
    "jupyter": {
     "outputs_hidden": true
    },
    "scrolled": true
   },
   "outputs": [
    {
     "name": "stderr",
     "output_type": "stream",
     "text": [
      "/Users/yiyujie/anaconda3/lib/python3.11/site-packages/linearmodels/panel/model.py:1214: MissingValueWarning: \n",
      "Inputs contain missing values. Dropping rows with missing observations.\n",
      "  super().__init__(dependent, exog, weights=weights, check_rank=check_rank)\n"
     ]
    },
    {
     "name": "stdout",
     "output_type": "stream",
     "text": [
      "                          PanelOLS Estimation Summary                           \n",
      "================================================================================\n",
      "Dep. Variable:                lead_rv   R-squared:                        0.2572\n",
      "Estimator:                   PanelOLS   R-squared (Between):              0.5115\n",
      "No. Observations:               55142   R-squared (Within):               0.0016\n",
      "Date:                Sun, Apr 14 2024   R-squared (Overall):              0.2572\n",
      "Time:                        14:46:40   Log-likelihood                 2.582e+04\n",
      "Cov. Estimator:             Clustered                                           \n",
      "                                        F-statistic:                   1.909e+04\n",
      "Entities:                        6001   P-value                           0.0000\n",
      "Avg Obs:                       9.1888   Distribution:                 F(1,55140)\n",
      "Min Obs:                       1.0000                                           \n",
      "Max Obs:                       34.000   F-statistic (robust):             4221.7\n",
      "                                        P-value                           0.0000\n",
      "Time periods:                      34   Distribution:                 F(1,55140)\n",
      "Avg Obs:                       1621.8                                           \n",
      "Min Obs:                       1064.0                                           \n",
      "Max Obs:                       2110.0                                           \n",
      "                                                                                \n",
      "                             Parameter Estimates                              \n",
      "==============================================================================\n",
      "            Parameter  Std. Err.     T-stat    P-value    Lower CI    Upper CI\n",
      "------------------------------------------------------------------------------\n",
      "Intercept      0.0803     0.0014     55.963     0.0000      0.0775      0.0832\n",
      "rv             0.5030     0.0077     64.974     0.0000      0.4878      0.5182\n",
      "==============================================================================\n",
      "\n",
      "\n"
     ]
    }
   ],
   "source": [
    "rv_panel2 = PanelOLS.from_formula(formula='lead_rv ~ 1 + rv', \n",
    "                                   data = data2).fit(cov_type = 'clustered', cluster_entity=True, cluster_time=False)\n",
    "print(rv_panel2)"
   ]
  },
  {
   "cell_type": "code",
   "execution_count": 13,
   "id": "5254ba1f-b72e-466e-ab36-0ef12b821be3",
   "metadata": {
    "collapsed": true,
    "jupyter": {
     "outputs_hidden": true
    }
   },
   "outputs": [
    {
     "name": "stderr",
     "output_type": "stream",
     "text": [
      "/Users/yiyujie/anaconda3/lib/python3.11/site-packages/linearmodels/panel/model.py:1214: MissingValueWarning: \n",
      "Inputs contain missing values. Dropping rows with missing observations.\n",
      "  super().__init__(dependent, exog, weights=weights, check_rank=check_rank)\n"
     ]
    },
    {
     "name": "stdout",
     "output_type": "stream",
     "text": [
      "                          PanelOLS Estimation Summary                           \n",
      "================================================================================\n",
      "Dep. Variable:                lead_rv   R-squared:                        0.2572\n",
      "Estimator:                   PanelOLS   R-squared (Between):              0.5115\n",
      "No. Observations:               55142   R-squared (Within):               0.0016\n",
      "Date:                Sun, Apr 14 2024   R-squared (Overall):              0.2572\n",
      "Time:                        14:46:40   Log-likelihood                 2.582e+04\n",
      "Cov. Estimator:             Clustered                                           \n",
      "                                        F-statistic:                   1.909e+04\n",
      "Entities:                        6001   P-value                           0.0000\n",
      "Avg Obs:                       9.1888   Distribution:                 F(1,55140)\n",
      "Min Obs:                       1.0000                                           \n",
      "Max Obs:                       34.000   F-statistic (robust):             8.2885\n",
      "                                        P-value                           0.0040\n",
      "Time periods:                      34   Distribution:                 F(1,55140)\n",
      "Avg Obs:                       1621.8                                           \n",
      "Min Obs:                       1064.0                                           \n",
      "Max Obs:                       2110.0                                           \n",
      "                                                                                \n",
      "                             Parameter Estimates                              \n",
      "==============================================================================\n",
      "            Parameter  Std. Err.     T-stat    P-value    Lower CI    Upper CI\n",
      "------------------------------------------------------------------------------\n",
      "Intercept      0.0803     0.0241     3.3346     0.0009      0.0331      0.1276\n",
      "rv             0.5030     0.1747     2.8790     0.0040      0.1606      0.8455\n",
      "==============================================================================\n",
      "\n",
      "\n"
     ]
    }
   ],
   "source": [
    "rv_panel3 = PanelOLS.from_formula(formula='lead_rv ~ 1 + rv', \n",
    "                                   data = data2).fit(cov_type = 'clustered', cluster_entity=True, cluster_time=True)\n",
    "print(rv_panel3)"
   ]
  },
  {
   "cell_type": "code",
   "execution_count": 14,
   "id": "3c3c519c-f5ba-4ea1-9f05-e4ea4fa8721b",
   "metadata": {
    "collapsed": true,
    "jupyter": {
     "outputs_hidden": true
    },
    "scrolled": true
   },
   "outputs": [
    {
     "name": "stdout",
     "output_type": "stream",
     "text": [
      "                          PanelOLS Estimation Summary                           \n",
      "================================================================================\n",
      "Dep. Variable:                lead_rv   R-squared:                        0.2782\n",
      "Estimator:                   PanelOLS   R-squared (Between):              0.5325\n",
      "No. Observations:               55142   R-squared (Within):               0.0205\n",
      "Date:                Sun, Apr 14 2024   R-squared (Overall):              0.2782\n",
      "Time:                        14:46:41   Log-likelihood                 2.661e+04\n",
      "Cov. Estimator:             Clustered                                           \n",
      "                                        F-statistic:                      1770.9\n",
      "Entities:                        6001   P-value                           0.0000\n",
      "Avg Obs:                       9.1888   Distribution:                F(12,55129)\n",
      "Min Obs:                       1.0000                                           \n",
      "Max Obs:                       34.000   F-statistic (robust):             39.443\n",
      "                                        P-value                           0.0000\n",
      "Time periods:                      34   Distribution:                F(12,55129)\n",
      "Avg Obs:                       1621.8                                           \n",
      "Min Obs:                       1064.0                                           \n",
      "Max Obs:                       2110.0                                           \n",
      "                                                                                \n",
      "                                 Parameter Estimates                                 \n",
      "=====================================================================================\n",
      "                   Parameter  Std. Err.     T-stat    P-value    Lower CI    Upper CI\n",
      "-------------------------------------------------------------------------------------\n",
      "Intercept             0.0631     0.0186     3.3987     0.0007      0.0267      0.0995\n",
      "rv                    0.4574     0.1721     2.6577     0.0079      0.1201      0.7948\n",
      "C(ff_ind)[T.2.0]      0.0162     0.0066     2.4537     0.0141      0.0033      0.0291\n",
      "C(ff_ind)[T.3.0]      0.0162     0.0053     3.0474     0.0023      0.0058      0.0266\n",
      "C(ff_ind)[T.4.0]      0.0388     0.0227     1.7109     0.0871     -0.0057      0.0834\n",
      "C(ff_ind)[T.5.0]      0.0011     0.0049     0.2201     0.8258     -0.0085      0.0106\n",
      "C(ff_ind)[T.6.0]      0.0742     0.0209     3.5473     0.0004      0.0332      0.1152\n",
      "C(ff_ind)[T.7.0]      0.0408     0.0133     3.0585     0.0022      0.0146      0.0669\n",
      "C(ff_ind)[T.8.0]     -0.0295     0.0095    -3.0945     0.0020     -0.0482     -0.0108\n",
      "C(ff_ind)[T.9.0]      0.0273     0.0074     3.7048     0.0002      0.0129      0.0418\n",
      "C(ff_ind)[T.10.0]     0.0437     0.0138     3.1710     0.0015      0.0167      0.0706\n",
      "C(ff_ind)[T.11.0]     0.0085     0.0113     0.7523     0.4519     -0.0136      0.0305\n",
      "C(ff_ind)[T.12.0]     0.0325     0.0098     3.3252     0.0009      0.0133      0.0517\n",
      "=====================================================================================\n",
      "\n",
      "\n"
     ]
    },
    {
     "name": "stderr",
     "output_type": "stream",
     "text": [
      "/Users/yiyujie/anaconda3/lib/python3.11/site-packages/linearmodels/panel/model.py:1214: MissingValueWarning: \n",
      "Inputs contain missing values. Dropping rows with missing observations.\n",
      "  super().__init__(dependent, exog, weights=weights, check_rank=check_rank)\n"
     ]
    }
   ],
   "source": [
    "rv_panel4 = PanelOLS.from_formula(formula='lead_rv ~ 1 + rv + C(ff_ind)', \n",
    "                                   data = data2).fit(cov_type = 'clustered', cluster_entity=False, cluster_time=True)\n",
    "print(rv_panel4)"
   ]
  },
  {
   "cell_type": "code",
   "execution_count": 15,
   "id": "c42a2abf-49c2-4a2f-9f7d-a9b9285b5382",
   "metadata": {
    "collapsed": true,
    "jupyter": {
     "outputs_hidden": true
    }
   },
   "outputs": [
    {
     "name": "stderr",
     "output_type": "stream",
     "text": [
      "/Users/yiyujie/anaconda3/lib/python3.11/site-packages/linearmodels/panel/model.py:1214: MissingValueWarning: \n",
      "Inputs contain missing values. Dropping rows with missing observations.\n",
      "  super().__init__(dependent, exog, weights=weights, check_rank=check_rank)\n"
     ]
    },
    {
     "name": "stdout",
     "output_type": "stream",
     "text": [
      "                          PanelOLS Estimation Summary                           \n",
      "================================================================================\n",
      "Dep. Variable:                lead_rv   R-squared:                        0.3908\n",
      "Estimator:                   PanelOLS   R-squared (Between):              0.5819\n",
      "No. Observations:               55142   R-squared (Within):              -0.0398\n",
      "Date:                Sun, Apr 14 2024   R-squared (Overall):              0.2657\n",
      "Time:                        14:46:41   Log-likelihood                 4.427e+04\n",
      "Cov. Estimator:             Clustered                                           \n",
      "                                        F-statistic:                      2945.1\n",
      "Entities:                        6001   P-value                           0.0000\n",
      "Avg Obs:                       9.1888   Distribution:                F(12,55096)\n",
      "Min Obs:                       1.0000                                           \n",
      "Max Obs:                       34.000   F-statistic (robust):             46.070\n",
      "                                        P-value                           0.0000\n",
      "Time periods:                      34   Distribution:                F(12,55096)\n",
      "Avg Obs:                       1621.8                                           \n",
      "Min Obs:                       1064.0                                           \n",
      "Max Obs:                       2110.0                                           \n",
      "                                                                                \n",
      "                                 Parameter Estimates                                 \n",
      "=====================================================================================\n",
      "                   Parameter  Std. Err.     T-stat    P-value    Lower CI    Upper CI\n",
      "-------------------------------------------------------------------------------------\n",
      "Intercept             0.0502     0.0217     2.3198     0.0204      0.0078      0.0927\n",
      "rv                    0.5734     0.1321     4.3413     0.0000      0.3145      0.8323\n",
      "C(ff_ind)[T.2.0]      0.0135     0.0073     1.8447     0.0651     -0.0008      0.0278\n",
      "C(ff_ind)[T.3.0]      0.0122     0.0044     2.7481     0.0060      0.0035      0.0209\n",
      "C(ff_ind)[T.4.0]      0.0276     0.0154     1.7919     0.0731     -0.0026      0.0578\n",
      "C(ff_ind)[T.5.0]      0.0010     0.0040     0.2397     0.8106     -0.0069      0.0088\n",
      "C(ff_ind)[T.6.0]      0.0545     0.0168     3.2495     0.0012      0.0216      0.0874\n",
      "C(ff_ind)[T.7.0]      0.0278     0.0093     2.9830     0.0029      0.0095      0.0461\n",
      "C(ff_ind)[T.8.0]     -0.0208     0.0073    -2.8665     0.0042     -0.0351     -0.0066\n",
      "C(ff_ind)[T.9.0]      0.0203     0.0049     4.1699     0.0000      0.0108      0.0299\n",
      "C(ff_ind)[T.10.0]     0.0323     0.0123     2.6335     0.0085      0.0083      0.0564\n",
      "C(ff_ind)[T.11.0]     0.0054     0.0107     0.5092     0.6106     -0.0155      0.0264\n",
      "C(ff_ind)[T.12.0]     0.0228     0.0057     4.0121     0.0001      0.0117      0.0340\n",
      "=====================================================================================\n",
      "\n",
      "F-test for Poolability: 1498.7\n",
      "P-value: 0.0000\n",
      "Distribution: F(33,55096)\n",
      "\n",
      "Included effects: Time\n"
     ]
    }
   ],
   "source": [
    "rv_panel5 = PanelOLS.from_formula(formula= 'lead_rv ~ 1 + rv + C(ff_ind) + TimeEffects', \n",
    "                data = data2).fit(cov_type = 'clustered', cluster_entity=True, cluster_time=True)\n",
    "print(rv_panel5)"
   ]
  },
  {
   "cell_type": "code",
   "execution_count": null,
   "id": "6e25e8cf-68d6-4014-a0dc-ec5531e4dc63",
   "metadata": {},
   "outputs": [],
   "source": [
    "print(compare({'1':reg1,'2':reg2,'3':reg3,'4':reg4}))"
   ]
  },
  {
   "cell_type": "markdown",
   "id": "2f5d4634-5404-413f-90cc-9d2d2cad76d8",
   "metadata": {},
   "source": [
    "* The last one make more sense which we consider the time effect and the industry FE "
   ]
  },
  {
   "cell_type": "markdown",
   "id": "a061f485-a716-4cea-9c20-38558a2f88cd",
   "metadata": {},
   "source": [
    "2. Also try forecasting at the 5-year horizon (rv in 5 years). How do the results change? Can we predict return variance 5-years ahead? Is the 5-year lagged rv significant, or are other variables more important?"
   ]
  },
  {
   "cell_type": "markdown",
   "id": "2a33037f-8864-413a-9051-1a19b04728ab",
   "metadata": {},
   "source": [
    "* The 5-year lagged rv is not significant."
   ]
  },
  {
   "cell_type": "code",
   "execution_count": 16,
   "id": "9b71f671-5aad-4c0b-bc75-1bd1d693d405",
   "metadata": {
    "collapsed": true,
    "jupyter": {
     "outputs_hidden": true
    }
   },
   "outputs": [
    {
     "name": "stdout",
     "output_type": "stream",
     "text": [
      "                          PanelOLS Estimation Summary                           \n",
      "================================================================================\n",
      "Dep. Variable:               lead_rv5   R-squared:                        0.0058\n",
      "Estimator:                   PanelOLS   R-squared (Between):              0.0238\n",
      "No. Observations:               35796   R-squared (Within):              -0.0323\n",
      "Date:                Sun, Apr 14 2024   R-squared (Overall):              0.0058\n",
      "Time:                        14:46:41   Log-likelihood                 1.537e+04\n",
      "Cov. Estimator:            Unadjusted                                           \n",
      "                                        F-statistic:                      209.31\n",
      "Entities:                        3537   P-value                           0.0000\n",
      "Avg Obs:                       10.120   Distribution:                 F(1,35794)\n",
      "Min Obs:                       1.0000                                           \n",
      "Max Obs:                       30.000   F-statistic (robust):             209.31\n",
      "                                        P-value                           0.0000\n",
      "Time periods:                      30   Distribution:                 F(1,35794)\n",
      "Avg Obs:                       1193.2                                           \n",
      "Min Obs:                       804.00                                           \n",
      "Max Obs:                       1470.0                                           \n",
      "                                                                                \n",
      "                             Parameter Estimates                              \n",
      "==============================================================================\n",
      "            Parameter  Std. Err.     T-stat    P-value    Lower CI    Upper CI\n",
      "------------------------------------------------------------------------------\n",
      "Intercept      0.1331     0.0011     116.67     0.0000      0.1308      0.1353\n",
      "rv             0.0697     0.0048     14.468     0.0000      0.0603      0.0792\n",
      "==============================================================================\n",
      "\n",
      "\n"
     ]
    },
    {
     "name": "stderr",
     "output_type": "stream",
     "text": [
      "/Users/yiyujie/anaconda3/lib/python3.11/site-packages/linearmodels/panel/model.py:1214: MissingValueWarning: \n",
      "Inputs contain missing values. Dropping rows with missing observations.\n",
      "  super().__init__(dependent, exog, weights=weights, check_rank=check_rank)\n"
     ]
    }
   ],
   "source": [
    "data2['lead_rv5'] = data2.groupby('FirmID')['rv'].shift(-5)\n",
    "rv5_panel = PanelOLS.from_formula(formula='lead_rv5 ~ 1 + rv', data = data2).fit()\n",
    "print(rv5_panel)"
   ]
  },
  {
   "cell_type": "code",
   "execution_count": 17,
   "id": "29dc3635-f55e-453e-8f28-f75ba0d67379",
   "metadata": {
    "collapsed": true,
    "jupyter": {
     "outputs_hidden": true
    }
   },
   "outputs": [
    {
     "name": "stdout",
     "output_type": "stream",
     "text": [
      "                          PanelOLS Estimation Summary                           \n",
      "================================================================================\n",
      "Dep. Variable:               lead_rv5   R-squared:                        0.0058\n",
      "Estimator:                   PanelOLS   R-squared (Between):              0.0238\n",
      "No. Observations:               35796   R-squared (Within):              -0.0323\n",
      "Date:                Sun, Apr 14 2024   R-squared (Overall):              0.0058\n",
      "Time:                        14:46:41   Log-likelihood                 1.537e+04\n",
      "Cov. Estimator:             Clustered                                           \n",
      "                                        F-statistic:                      209.31\n",
      "Entities:                        3537   P-value                           0.0000\n",
      "Avg Obs:                       10.120   Distribution:                 F(1,35794)\n",
      "Min Obs:                       1.0000                                           \n",
      "Max Obs:                       30.000   F-statistic (robust):             127.12\n",
      "                                        P-value                           0.0000\n",
      "Time periods:                      30   Distribution:                 F(1,35794)\n",
      "Avg Obs:                       1193.2                                           \n",
      "Min Obs:                       804.00                                           \n",
      "Max Obs:                       1470.0                                           \n",
      "                                                                                \n",
      "                             Parameter Estimates                              \n",
      "==============================================================================\n",
      "            Parameter  Std. Err.     T-stat    P-value    Lower CI    Upper CI\n",
      "------------------------------------------------------------------------------\n",
      "Intercept      0.1331     0.0019     70.939     0.0000      0.1294      0.1368\n",
      "rv             0.0697     0.0062     11.275     0.0000      0.0576      0.0818\n",
      "==============================================================================\n",
      "\n",
      "\n"
     ]
    },
    {
     "name": "stderr",
     "output_type": "stream",
     "text": [
      "/Users/yiyujie/anaconda3/lib/python3.11/site-packages/linearmodels/panel/model.py:1214: MissingValueWarning: \n",
      "Inputs contain missing values. Dropping rows with missing observations.\n",
      "  super().__init__(dependent, exog, weights=weights, check_rank=check_rank)\n"
     ]
    }
   ],
   "source": [
    "rv5_panel2 = PanelOLS.from_formula(formula='lead_rv5 ~ 1 + rv', \n",
    "                                   data = data2).fit(cov_type = 'clustered', cluster_entity=True, cluster_time=False)\n",
    "print(rv5_panel2)"
   ]
  },
  {
   "cell_type": "code",
   "execution_count": 18,
   "id": "13568a06-6952-4a88-bd2a-c5535d69bb77",
   "metadata": {
    "collapsed": true,
    "jupyter": {
     "outputs_hidden": true
    }
   },
   "outputs": [
    {
     "name": "stderr",
     "output_type": "stream",
     "text": [
      "/Users/yiyujie/anaconda3/lib/python3.11/site-packages/linearmodels/panel/model.py:1214: MissingValueWarning: \n",
      "Inputs contain missing values. Dropping rows with missing observations.\n",
      "  super().__init__(dependent, exog, weights=weights, check_rank=check_rank)\n"
     ]
    },
    {
     "name": "stdout",
     "output_type": "stream",
     "text": [
      "                          PanelOLS Estimation Summary                           \n",
      "================================================================================\n",
      "Dep. Variable:               lead_rv5   R-squared:                        0.0058\n",
      "Estimator:                   PanelOLS   R-squared (Between):              0.0238\n",
      "No. Observations:               35796   R-squared (Within):              -0.0323\n",
      "Date:                Sun, Apr 14 2024   R-squared (Overall):              0.0058\n",
      "Time:                        14:46:41   Log-likelihood                 1.537e+04\n",
      "Cov. Estimator:             Clustered                                           \n",
      "                                        F-statistic:                      209.31\n",
      "Entities:                        3537   P-value                           0.0000\n",
      "Avg Obs:                       10.120   Distribution:                 F(1,35794)\n",
      "Min Obs:                       1.0000                                           \n",
      "Max Obs:                       30.000   F-statistic (robust):             0.9549\n",
      "                                        P-value                           0.3285\n",
      "Time periods:                      30   Distribution:                 F(1,35794)\n",
      "Avg Obs:                       1193.2                                           \n",
      "Min Obs:                       804.00                                           \n",
      "Max Obs:                       1470.0                                           \n",
      "                                                                                \n",
      "                             Parameter Estimates                              \n",
      "==============================================================================\n",
      "            Parameter  Std. Err.     T-stat    P-value    Lower CI    Upper CI\n",
      "------------------------------------------------------------------------------\n",
      "Intercept      0.1331     0.0214     6.2223     0.0000      0.0912      0.1750\n",
      "rv             0.0697     0.0713     0.9772     0.3285     -0.0701      0.2096\n",
      "==============================================================================\n",
      "\n",
      "\n"
     ]
    }
   ],
   "source": [
    "rv5_panel3 = PanelOLS.from_formula(formula='lead_rv5 ~ 1 + rv', \n",
    "                                   data = data2).fit(cov_type = 'clustered', cluster_entity=True, cluster_time=True)\n",
    "print(rv5_panel3)"
   ]
  },
  {
   "cell_type": "code",
   "execution_count": 19,
   "id": "0ab2002c-5df7-471c-bad5-d83dbaeeebf3",
   "metadata": {
    "collapsed": true,
    "jupyter": {
     "outputs_hidden": true
    }
   },
   "outputs": [
    {
     "name": "stdout",
     "output_type": "stream",
     "text": [
      "                          PanelOLS Estimation Summary                           \n",
      "================================================================================\n",
      "Dep. Variable:               lead_rv5   R-squared:                        0.0603\n",
      "Estimator:                   PanelOLS   R-squared (Between):              0.0996\n",
      "No. Observations:               35796   R-squared (Within):              -0.0026\n",
      "Date:                Sun, Apr 14 2024   R-squared (Overall):              0.0603\n",
      "Time:                        14:46:42   Log-likelihood                 1.638e+04\n",
      "Cov. Estimator:             Clustered                                           \n",
      "                                        F-statistic:                      191.45\n",
      "Entities:                        3537   P-value                           0.0000\n",
      "Avg Obs:                       10.120   Distribution:                F(12,35783)\n",
      "Min Obs:                       1.0000                                           \n",
      "Max Obs:                       30.000   F-statistic (robust):             85.421\n",
      "                                        P-value                           0.0000\n",
      "Time periods:                      30   Distribution:                F(12,35783)\n",
      "Avg Obs:                       1193.2                                           \n",
      "Min Obs:                       804.00                                           \n",
      "Max Obs:                       1470.0                                           \n",
      "                                                                                \n",
      "                                 Parameter Estimates                                 \n",
      "=====================================================================================\n",
      "                   Parameter  Std. Err.     T-stat    P-value    Lower CI    Upper CI\n",
      "-------------------------------------------------------------------------------------\n",
      "Intercept             0.1087     0.0141     7.6998     0.0000      0.0810      0.1363\n",
      "rv                    0.0008     0.0556     0.0137     0.9891     -0.1082      0.1097\n",
      "C(ff_ind)[T.2.0]      0.0311     0.0069     4.4917     0.0000      0.0175      0.0447\n",
      "C(ff_ind)[T.3.0]      0.0296     0.0067     4.4407     0.0000      0.0165      0.0426\n",
      "C(ff_ind)[T.4.0]      0.0650     0.0212     3.0710     0.0021      0.0235      0.1065\n",
      "C(ff_ind)[T.5.0]      0.0020     0.0038     0.5216     0.6019     -0.0055      0.0095\n",
      "C(ff_ind)[T.6.0]      0.1045     0.0192     5.4429     0.0000      0.0669      0.1421\n",
      "C(ff_ind)[T.7.0]      0.0387     0.0115     3.3700     0.0008      0.0162      0.0613\n",
      "C(ff_ind)[T.8.0]     -0.0478     0.0065    -7.3342     0.0000     -0.0606     -0.0350\n",
      "C(ff_ind)[T.9.0]      0.0460     0.0080     5.7303     0.0000      0.0303      0.0618\n",
      "C(ff_ind)[T.10.0]     0.0574     0.0110     5.2333     0.0000      0.0359      0.0789\n",
      "C(ff_ind)[T.11.0]     0.0202     0.0167     1.2147     0.2245     -0.0124      0.0529\n",
      "C(ff_ind)[T.12.0]     0.0530     0.0118     4.4952     0.0000      0.0299      0.0761\n",
      "=====================================================================================\n",
      "\n",
      "\n"
     ]
    },
    {
     "name": "stderr",
     "output_type": "stream",
     "text": [
      "/Users/yiyujie/anaconda3/lib/python3.11/site-packages/linearmodels/panel/model.py:1214: MissingValueWarning: \n",
      "Inputs contain missing values. Dropping rows with missing observations.\n",
      "  super().__init__(dependent, exog, weights=weights, check_rank=check_rank)\n"
     ]
    }
   ],
   "source": [
    "rv5_panel4 = PanelOLS.from_formula(formula='lead_rv5 ~ 1 + rv + C(ff_ind)', \n",
    "                                   data = data2).fit(cov_type = 'clustered', cluster_entity=False, cluster_time=True)\n",
    "print(rv5_panel4)"
   ]
  },
  {
   "cell_type": "code",
   "execution_count": 20,
   "id": "470134b9-aa77-4713-9bba-cbd295889dbf",
   "metadata": {
    "collapsed": true,
    "jupyter": {
     "outputs_hidden": true
    }
   },
   "outputs": [
    {
     "name": "stderr",
     "output_type": "stream",
     "text": [
      "/Users/yiyujie/anaconda3/lib/python3.11/site-packages/linearmodels/panel/model.py:1214: MissingValueWarning: \n",
      "Inputs contain missing values. Dropping rows with missing observations.\n",
      "  super().__init__(dependent, exog, weights=weights, check_rank=check_rank)\n"
     ]
    },
    {
     "name": "stdout",
     "output_type": "stream",
     "text": [
      "                          PanelOLS Estimation Summary                           \n",
      "================================================================================\n",
      "Dep. Variable:               lead_rv5   R-squared:                        0.1184\n",
      "Estimator:                   PanelOLS   R-squared (Between):              0.1231\n",
      "No. Observations:               35796   R-squared (Within):              -0.1226\n",
      "Date:                Sun, Apr 14 2024   R-squared (Overall):              0.0160\n",
      "Time:                        14:46:42   Log-likelihood                 2.463e+04\n",
      "Cov. Estimator:             Clustered                                           \n",
      "                                        F-statistic:                      400.05\n",
      "Entities:                        3537   P-value                           0.0000\n",
      "Avg Obs:                       10.120   Distribution:                F(12,35754)\n",
      "Min Obs:                       1.0000                                           \n",
      "Max Obs:                       30.000   F-statistic (robust):             20.922\n",
      "                                        P-value                           0.0000\n",
      "Time periods:                      30   Distribution:                F(12,35754)\n",
      "Avg Obs:                       1193.2                                           \n",
      "Min Obs:                       804.00                                           \n",
      "Max Obs:                       1470.0                                           \n",
      "                                                                                \n",
      "                                 Parameter Estimates                                 \n",
      "=====================================================================================\n",
      "                   Parameter  Std. Err.     T-stat    P-value    Lower CI    Upper CI\n",
      "-------------------------------------------------------------------------------------\n",
      "Intercept             0.0848     0.0125     6.7888     0.0000      0.0603      0.1093\n",
      "rv                    0.2034     0.0665     3.0569     0.0022      0.0730      0.3338\n",
      "C(ff_ind)[T.2.0]      0.0247     0.0077     3.2018     0.0014      0.0096      0.0398\n",
      "C(ff_ind)[T.3.0]      0.0256     0.0064     4.0087     0.0001      0.0131      0.0382\n",
      "C(ff_ind)[T.4.0]      0.0509     0.0170     2.9880     0.0028      0.0175      0.0843\n",
      "C(ff_ind)[T.5.0]      0.0018     0.0055     0.3249     0.7453     -0.0090      0.0126\n",
      "C(ff_ind)[T.6.0]      0.0737     0.0173     4.2625     0.0000      0.0398      0.1076\n",
      "C(ff_ind)[T.7.0]      0.0314     0.0113     2.7779     0.0055      0.0093      0.0536\n",
      "C(ff_ind)[T.8.0]     -0.0339     0.0056    -6.0114     0.0000     -0.0450     -0.0229\n",
      "C(ff_ind)[T.9.0]      0.0335     0.0060     5.5805     0.0000      0.0217      0.0453\n",
      "C(ff_ind)[T.10.0]     0.0372     0.0122     3.0502     0.0023      0.0133      0.0612\n",
      "C(ff_ind)[T.11.0]     0.0163     0.0143     1.1425     0.2533     -0.0117      0.0443\n",
      "C(ff_ind)[T.12.0]     0.0395     0.0067     5.8727     0.0000      0.0263      0.0527\n",
      "=====================================================================================\n",
      "\n",
      "F-test for Poolability: 721.71\n",
      "P-value: 0.0000\n",
      "Distribution: F(29,35754)\n",
      "\n",
      "Included effects: Time\n"
     ]
    }
   ],
   "source": [
    "rv5_panel5 = PanelOLS.from_formula(formula= 'lead_rv5 ~ 1 + rv + C(ff_ind) + TimeEffects', \n",
    "                data = data2).fit(cov_type = 'clustered', cluster_entity=True, cluster_time=True)\n",
    "print(rv5_panel5)"
   ]
  },
  {
   "cell_type": "code",
   "execution_count": 21,
   "id": "deb9625b-a68b-4abd-8b4c-7bb6fbff96d3",
   "metadata": {
    "collapsed": true,
    "jupyter": {
     "outputs_hidden": true
    }
   },
   "outputs": [
    {
     "name": "stderr",
     "output_type": "stream",
     "text": [
      "/Users/yiyujie/anaconda3/lib/python3.11/site-packages/linearmodels/panel/model.py:1214: MissingValueWarning: \n",
      "Inputs contain missing values. Dropping rows with missing observations.\n",
      "  super().__init__(dependent, exog, weights=weights, check_rank=check_rank)\n"
     ]
    },
    {
     "name": "stdout",
     "output_type": "stream",
     "text": [
      "                          PanelOLS Estimation Summary                           \n",
      "================================================================================\n",
      "Dep. Variable:               lead_rv5   R-squared:                        0.0905\n",
      "Estimator:                   PanelOLS   R-squared (Between):              0.2075\n",
      "No. Observations:               34092   R-squared (Within):               0.0086\n",
      "Date:                Sun, Apr 14 2024   R-squared (Overall):              0.0905\n",
      "Time:                        14:46:42   Log-likelihood                 1.657e+04\n",
      "Cov. Estimator:             Clustered                                           \n",
      "                                        F-statistic:                      199.52\n",
      "Entities:                        3335   P-value                           0.0000\n",
      "Avg Obs:                       10.222   Distribution:                F(17,34074)\n",
      "Min Obs:                       1.0000                                           \n",
      "Max Obs:                       30.000   F-statistic (robust):             17.774\n",
      "                                        P-value                           0.0000\n",
      "Time periods:                      30   Distribution:                F(17,34074)\n",
      "Avg Obs:                       1136.4                                           \n",
      "Min Obs:                       792.00                                           \n",
      "Max Obs:                       1378.0                                           \n",
      "                                                                                \n",
      "                                 Parameter Estimates                                 \n",
      "=====================================================================================\n",
      "                   Parameter  Std. Err.     T-stat    P-value    Lower CI    Upper CI\n",
      "-------------------------------------------------------------------------------------\n",
      "Intercept             0.1100     0.0147     7.5034     0.0000      0.0812      0.1387\n",
      "rv                   -0.0413     0.0490    -0.8432     0.3991     -0.1373      0.0547\n",
      "lnBM                 -0.0229     0.0075    -3.0339     0.0024     -0.0377     -0.0081\n",
      "lnProf               -0.0768     0.0210    -3.6551     0.0003     -0.1179     -0.0356\n",
      "lnLever              -0.0015     0.0044    -0.3503     0.7261     -0.0102      0.0071\n",
      "lnIssue               0.0679     0.0130     5.2381     0.0000      0.0425      0.0933\n",
      "lnInv                 0.0225     0.0130     1.7340     0.0829     -0.0029      0.0479\n",
      "C(ff_ind)[T.2.0]      0.0335     0.0097     3.4475     0.0006      0.0144      0.0525\n",
      "C(ff_ind)[T.3.0]      0.0329     0.0086     3.8194     0.0001      0.0160      0.0498\n",
      "C(ff_ind)[T.4.0]      0.0649     0.0231     2.8034     0.0051      0.0195      0.1103\n",
      "C(ff_ind)[T.5.0]      0.0048     0.0064     0.7573     0.4489     -0.0077      0.0174\n",
      "C(ff_ind)[T.6.0]      0.0881     0.0169     5.2066     0.0000      0.0549      0.1213\n",
      "C(ff_ind)[T.7.0]      0.0114     0.0104     1.0984     0.2720     -0.0089      0.0317\n",
      "C(ff_ind)[T.8.0]     -0.0409     0.0080    -5.0908     0.0000     -0.0566     -0.0251\n",
      "C(ff_ind)[T.9.0]      0.0412     0.0088     4.7056     0.0000      0.0241      0.0584\n",
      "C(ff_ind)[T.10.0]     0.0240     0.0093     2.5810     0.0099      0.0058      0.0422\n",
      "C(ff_ind)[T.11.0]     0.0217     0.0151     1.4365     0.1509     -0.0079      0.0514\n",
      "C(ff_ind)[T.12.0]     0.0482     0.0128     3.7809     0.0002      0.0232      0.0732\n",
      "=====================================================================================\n",
      "\n",
      "\n"
     ]
    }
   ],
   "source": [
    "rv5_panel6 = PanelOLS.from_formula(formula='lead_rv5 ~ 1 + rv + lnBM + lnProf + lnLever + lnIssue + lnInv + C(ff_ind)', \n",
    "                data = data2).fit(cov_type = 'clustered', cluster_entity=True, cluster_time=True)\n",
    "print(rv5_panel6)"
   ]
  },
  {
   "cell_type": "code",
   "execution_count": null,
   "id": "5f29642d-deca-4fda-8750-4e630e43ebdf",
   "metadata": {},
   "outputs": [],
   "source": []
  },
  {
   "cell_type": "markdown",
   "id": "c150c8c1-fbc7-478b-8042-8e575338ab64",
   "metadata": {},
   "source": [
    "3. What are the benefits of the panel approach, versus simply running one regression for each firm? What are the potential costs?"
   ]
  },
  {
   "cell_type": "markdown",
   "id": "0ca0d89a-a072-4fbf-8979-16a543cf182a",
   "metadata": {},
   "source": [
    "The primary issue with running a regression for each firm, is that the time-series for each firm is not long enough to get statistically significant estimates. The panel approach allows you to estimate covariates across many firms, allowing for more observations to be used in the regression. However, the panel specification will identify the aggregate affect of the covariates, which may not be directly applicable to any specific fi"
   ]
  },
  {
   "cell_type": "code",
   "execution_count": null,
   "id": "5ec4b1c0-5f54-4b2e-b1fa-f23040beb809",
   "metadata": {},
   "outputs": [],
   "source": []
  }
 ],
 "metadata": {
  "kernelspec": {
   "display_name": "Python 3 (ipykernel)",
   "language": "python",
   "name": "python3"
  },
  "language_info": {
   "codemirror_mode": {
    "name": "ipython",
    "version": 3
   },
   "file_extension": ".py",
   "mimetype": "text/x-python",
   "name": "python",
   "nbconvert_exporter": "python",
   "pygments_lexer": "ipython3",
   "version": "3.11.7"
  }
 },
 "nbformat": 4,
 "nbformat_minor": 5
}
